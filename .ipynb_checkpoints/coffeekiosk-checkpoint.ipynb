{
 "cells": [
  {
   "cell_type": "code",
   "execution_count": 25,
   "id": "aebd5b82-c6fd-407a-a9fc-897833334a1a",
   "metadata": {},
   "outputs": [],
   "source": [
    "# 메뉴\n",
    "menu = {\"아메리카노\" : 5000, \"카페라떼\": 5500 , \n",
    "        \"모카라떼\": 6500, \"새싹 아인슈페너\": 8000,\n",
    "        \"짭허블\": 6500, \"오렌지주스\": 7000, \n",
    "        \"딸기주스\": 7000, \"사과주스\": 7000}\n",
    "\n",
    "# 초기값 설정 (초기 재고 설정) \n",
    "inventory = {\"아메리카노\" : 10, \"카페라떼\": 10, \n",
    "        \"모카라떼\": 10, \"새싹 아인슈페너\": 10,\n",
    "        \"짭허블\": 10, \"오렌지주스\": 10, \n",
    "        \"딸기주스\": 10, \"사과주스\": 10}"
   ]
  },
  {
   "cell_type": "code",
   "execution_count": 26,
   "id": "7e84aa10-0351-4de3-8fef-7aa564442bb9",
   "metadata": {},
   "outputs": [],
   "source": [
    "# 초기 키오스크 상태 (금액) \n",
    "balance  = 0 "
   ]
  },
  {
   "cell_type": "code",
   "execution_count": 27,
   "id": "06f21392-f9c2-4f3e-8163-34df1c74f4c8",
   "metadata": {},
   "outputs": [],
   "source": [
    "def check_inventory(item, quantity): \n",
    "    # 재고 확인 \n",
    "    if inventory[item] >= quantity:\n",
    "        return True\n",
    "    return False \n",
    "\n",
    "def update_inventory(item, quantity): \n",
    "    # 재고 업데이트 \n",
    "    inventory[item] -= quantity "
   ]
  },
  {
   "cell_type": "code",
   "execution_count": 28,
   "id": "03e97b93-ef08-426c-8b70-caa6bcd116b8",
   "metadata": {},
   "outputs": [
    {
     "name": "stdout",
     "output_type": "stream",
     "text": [
      "커피 키오스크에 오신 것을 환영합니다!\n",
      "\n",
      "====== 메뉴 =======\n",
      "아메리카노: 5000원\n",
      "카페라떼: 5500원\n",
      "모카라떼: 6500원\n",
      "새싹 아인슈페너: 8000원\n",
      "짭허블: 6500원\n",
      "오렌지주스: 7000원\n",
      "딸기주스: 7000원\n",
      "사과주스: 7000원\n",
      "===================\n"
     ]
    },
    {
     "name": "stdin",
     "output_type": "stream",
     "text": [
      "메뉴에서 원하는 항목을 선택하거나 '종료'를 입력하세요:  아메리카노\n",
      "아메리카노 몇 잔을 주문하시겠습니까?  2\n"
     ]
    },
    {
     "name": "stdout",
     "output_type": "stream",
     "text": [
      "아메리카노 2잔의 총 금액은 10000원입니다.\n"
     ]
    },
    {
     "name": "stdin",
     "output_type": "stream",
     "text": [
      "금액을 투입해주세요:  50000\n"
     ]
    },
    {
     "name": "stdout",
     "output_type": "stream",
     "text": [
      "현재 잔액: 50000원\n",
      "아메리카노 2잔을 구매했습니다. 남은 잔액: 40000원\n",
      "\n",
      "====== 메뉴 =======\n",
      "아메리카노: 5000원\n",
      "카페라떼: 5500원\n",
      "모카라떼: 6500원\n",
      "새싹 아인슈페너: 8000원\n",
      "짭허블: 6500원\n",
      "오렌지주스: 7000원\n",
      "딸기주스: 7000원\n",
      "사과주스: 7000원\n",
      "===================\n"
     ]
    },
    {
     "name": "stdin",
     "output_type": "stream",
     "text": [
      "메뉴에서 원하는 항목을 선택하거나 '종료'를 입력하세요:  종료\n"
     ]
    },
    {
     "name": "stdout",
     "output_type": "stream",
     "text": [
      "잔액 40000원을 반환합니다.\n",
      "키오스크를 종료합니다.\n"
     ]
    }
   ],
   "source": [
    "def display_menu():\n",
    "    # 메뉴 출력 \n",
    "    print(\"\\n====== 메뉴 =======\")\n",
    "    for item, price in menu.items():\n",
    "        print(f\"{item}: {price}원\")\n",
    "    print(\"===================\")\n",
    "    \n",
    "def run_kiosk():\n",
    "    global balance\n",
    "    while True:\n",
    "        display_menu()\n",
    "        action = input(\"메뉴에서 원하는 항목을 선택하거나 '종료'를 입력하세요: \")\n",
    "        if action == \"종료\":\n",
    "            if balance > 0:\n",
    "                print(f\"잔액 {balance}원을 반환합니다.\")\n",
    "            print(\"키오스크를 종료합니다.\")\n",
    "            break\n",
    "\n",
    "        if action not in menu:\n",
    "            print(\"잘못된 선택입니다. 다시 시도해주세요.\")\n",
    "            continue\n",
    "\n",
    "        try:\n",
    "            quantity = int(input(f\"{action} 몇 잔을 주문하시겠습니까? \"))\n",
    "        except ValueError:\n",
    "            print(\"숫자를 입력해주세요.\")\n",
    "            continue\n",
    "\n",
    "        if not check_inventory(action, quantity):\n",
    "            print(f\"{action}의 재고가 부족합니다. 남은 재고: {inventory[action]}잔\")\n",
    "            continue\n",
    "\n",
    "        total_price = menu[action] * quantity\n",
    "        print(f\"{action} {quantity}잔의 총 금액은 {total_price}원입니다.\")\n",
    "\n",
    "        while True:\n",
    "            try:\n",
    "                money = int(input(\"금액을 투입해주세요: \"))\n",
    "                balance += money\n",
    "                print(f\"현재 잔액: {balance}원\")\n",
    "                if balance >= total_price:\n",
    "                    balance -= total_price\n",
    "                    update_inventory(action, quantity)\n",
    "                    print(f\"{action} {quantity}잔을 구매했습니다. 남은 잔액: {balance}원\")\n",
    "                    break\n",
    "                else:\n",
    "                    print(f\"잔액이 부족합니다. 추가로 {total_price - balance}원이 필요합니다.\")\n",
    "            except ValueError:\n",
    "                print(\"숫자를 입력해주세요.\")\n",
    "\n",
    "if __name__ == \"__main__\":\n",
    "    print(\"커피 키오스크에 오신 것을 환영합니다!\")\n",
    "    run_kiosk()\n"
   ]
  },
  {
   "cell_type": "code",
   "execution_count": null,
   "id": "b4683409-f730-42a7-9ef9-ae10a547b06b",
   "metadata": {},
   "outputs": [],
   "source": []
  }
 ],
 "metadata": {
  "kernelspec": {
   "display_name": "Python 3 (ipykernel)",
   "language": "python",
   "name": "python3"
  },
  "language_info": {
   "codemirror_mode": {
    "name": "ipython",
    "version": 3
   },
   "file_extension": ".py",
   "mimetype": "text/x-python",
   "name": "python",
   "nbconvert_exporter": "python",
   "pygments_lexer": "ipython3",
   "version": "3.12.0"
  }
 },
 "nbformat": 4,
 "nbformat_minor": 5
}
