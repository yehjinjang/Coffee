{
 "cells": [
  {
   "cell_type": "code",
   "execution_count": 143,
   "id": "aebd5b82-c6fd-407a-a9fc-897833334a1a",
   "metadata": {},
   "outputs": [],
   "source": [
    "# 메뉴\n",
    "menu = {\"아메리카노\" : 5000, \"카페라떼\": 5500 , \n",
    "        \"모카라떼\": 6500, \"새싹 아인슈페너\": 8000,\n",
    "        \"짭허블\": 6500, \"오렌지주스\": 7000, \n",
    "        \" 포도주스\": 7000, \"사과주스\": 7000}\n",
    "\n",
    "# 초기값 설정 (초기 재고 설정) \n",
    "inventory = {\"아메리카노\" : 10, \"카페라떼\": 10 , \n",
    "        \"모카라떼\": 10, \"새싹 아인슈페너\": 10,\n",
    "        \"짭허블\": 10, \"오렌지주스\": 10, \n",
    "        \" 포도주스\": 10, \"사과주스\": 10}"
   ]
  },
  {
   "cell_type": "code",
   "execution_count": 145,
   "id": "7e84aa10-0351-4de3-8fef-7aa564442bb9",
   "metadata": {},
   "outputs": [],
   "source": [
    "# 초기 키오스크 상태 (금액) \n",
    "balance  = 0 "
   ]
  },
  {
   "cell_type": "code",
   "execution_count": 147,
   "id": "06f21392-f9c2-4f3e-8163-34df1c74f4c8",
   "metadata": {},
   "outputs": [],
   "source": [
    "def display_menu():\n",
    "    # 메뉴 출력 \n",
    "    print(\" \\n ====== 메뉴 =======\")\n",
    "    for item, price in menu.items():\n",
    "        print(f\"(item): {price}원\")\n",
    "    print(\"===================\")\n",
    "\n",
    "def check_inventory(item, quantity): \n",
    "    # 재고 확인 \n",
    "    if inventory[item] >= quantity:\n",
    "        return True\n",
    "    return False \n",
    "\n",
    "def update_inventory(item, quantity): \n",
    "    # 재고 업데이트 \n",
    "    inventory[item] -= quantity \n",
    "\n",
    "def simulate_coffee_machine(actions):\n",
    "    \"\"\"시뮬레이션 실행\"\"\"\n",
    "    global balance\n",
    "    for action in actions:\n",
    "        if action[\"type\"] == \"select_item\":\n",
    "            # 음료 선택\n",
    "            item = action[\"item\"]\n",
    "            quantity = action[\"quantity\"]\n",
    "            if item in menu:\n",
    "                total_price = menu[item] * quantity\n",
    "                if check_inventory(item, quantity):\n",
    "                    print(f\"{item} {quantity}잔의 총 금액은 {total_price}원입니다.\")\n",
    "                    print(\"금액을 투입해주세요.\")\n",
    "                else:\n",
    "                    print(f\"{item}의 재고가 부족합니다.\")\n",
    "            else:\n",
    "                print(\"잘못된 음료 선택입니다.\")\n",
    "\n",
    "        elif action[\"type\"] == \"insert_money\":\n",
    "            # 금액 투입\n",
    "            money = action[\"amount\"]\n",
    "            balance += money\n",
    "            print(f\"{money}원이 투입되었습니다. 현재 잔액: {balance}원\")\n",
    "\n",
    "        elif action[\"type\"] == \"confirm_purchase\":\n",
    "            # 구매 확정\n",
    "            item = action[\"item\"]\n",
    "            quantity = action[\"quantity\"]\n",
    "            total_price = menu[item] * quantity\n",
    "            if balance >= total_price:\n",
    "                balance -= total_price\n",
    "                update_inventory(item, quantity)\n",
    "                print(f\"{item} {quantity}잔을 구매했습니다. 잔액: {balance}원\")\n",
    "            else:\n",
    "                print(f\"잔액이 부족합니다. 총 {total_price}원이 필요합니다.\")\n",
    "\n",
    "        elif action[\"type\"] == \"return_balance\":\n",
    "            # 잔액 반환\n",
    "            if balance > 0:\n",
    "                print(f\"잔액 {balance}원을 반환합니다.\")\n",
    "                balance = 0\n",
    "            else:\n",
    "                print(\"\")"
   ]
  },
  {
   "cell_type": "code",
   "execution_count": 149,
   "id": "5531f1d8-2a7c-4f3d-ab28-f4bf3bceec6c",
   "metadata": {},
   "outputs": [
    {
     "name": "stdout",
     "output_type": "stream",
     "text": [
      "아메리카노 1잔의 총 금액은 5000원입니다.\n",
      "금액을 투입해주세요.\n",
      "5000원이 투입되었습니다. 현재 잔액: 5000원\n",
      "아메리카노 1잔을 구매했습니다. 잔액: 0원\n"
     ]
    }
   ],
   "source": [
    "# 아메리 카노 한잔 \n",
    "actions = [\n",
    "    {\"type\": \"select_item\", \"item\": \"아메리카노\", \"quantity\": 1},\n",
    "    {\"type\": \"insert_money\", \"amount\": 5000},\n",
    "    {\"type\": \"confirm_purchase\", \"item\": \"아메리카노\", \"quantity\": 1},\n",
    "    # {\"type\": \"return_balance\"},\n",
    "]\n",
    "\n",
    "simulate_coffee_machine(actions)"
   ]
  },
  {
   "cell_type": "code",
   "execution_count": 151,
   "id": "cc23833c-fd72-434a-bc69-24d6cc956a05",
   "metadata": {},
   "outputs": [
    {
     "name": "stdout",
     "output_type": "stream",
     "text": [
      "모카라떼 2잔의 총 금액은 13000원입니다.\n",
      "금액을 투입해주세요.\n",
      "10000원이 투입되었습니다. 현재 잔액: 10000원\n",
      "잔액이 부족합니다. 총 13000원이 필요합니다.\n"
     ]
    }
   ],
   "source": [
    "actions = [\n",
    "    {\"type\": \"select_item\", \"item\": \"모카라떼\", \"quantity\": 2},\n",
    "    {\"type\": \"insert_money\", \"amount\": 10000},\n",
    "    {\"type\": \"confirm_purchase\", \"item\": \"모카라떼\", \"quantity\": 2},\n",
    "    # {\"type\": \"return_balance\"},\n",
    "]\n",
    "simulate_coffee_machine(actions)"
   ]
  },
  {
   "cell_type": "code",
   "execution_count": null,
   "id": "03e97b93-ef08-426c-8b70-caa6bcd116b8",
   "metadata": {},
   "outputs": [],
   "source": []
  },
  {
   "cell_type": "code",
   "execution_count": null,
   "id": "b4683409-f730-42a7-9ef9-ae10a547b06b",
   "metadata": {},
   "outputs": [],
   "source": []
  }
 ],
 "metadata": {
  "kernelspec": {
   "display_name": "Python [conda env:base] *",
   "language": "python",
   "name": "conda-base-py"
  },
  "language_info": {
   "codemirror_mode": {
    "name": "ipython",
    "version": 3
   },
   "file_extension": ".py",
   "mimetype": "text/x-python",
   "name": "python",
   "nbconvert_exporter": "python",
   "pygments_lexer": "ipython3",
   "version": "3.12.7"
  }
 },
 "nbformat": 4,
 "nbformat_minor": 5
}
